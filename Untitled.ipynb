{
 "cells": [
  {
   "cell_type": "code",
   "execution_count": 25,
   "id": "03b20667-700b-4cb8-9624-6252347ff13a",
   "metadata": {},
   "outputs": [
    {
     "name": "stdout",
     "output_type": "stream",
     "text": [
      "Requirement already satisfied: pandas in ./.venv/lib64/python3.12/site-packages (2.2.3)\n",
      "Requirement already satisfied: shapely in ./.venv/lib64/python3.12/site-packages (2.0.6)\n",
      "Requirement already satisfied: numpy>=1.26.0 in ./.venv/lib64/python3.12/site-packages (from pandas) (2.1.2)\n",
      "Requirement already satisfied: python-dateutil>=2.8.2 in ./.venv/lib64/python3.12/site-packages (from pandas) (2.9.0.post0)\n",
      "Requirement already satisfied: pytz>=2020.1 in ./.venv/lib64/python3.12/site-packages (from pandas) (2024.2)\n",
      "Requirement already satisfied: tzdata>=2022.7 in ./.venv/lib64/python3.12/site-packages (from pandas) (2024.2)\n",
      "Requirement already satisfied: six>=1.5 in ./.venv/lib64/python3.12/site-packages (from python-dateutil>=2.8.2->pandas) (1.16.0)\n",
      "\n",
      "\u001b[1m[\u001b[0m\u001b[34;49mnotice\u001b[0m\u001b[1;39;49m]\u001b[0m\u001b[39;49m A new release of pip is available: \u001b[0m\u001b[31;49m23.3.2\u001b[0m\u001b[39;49m -> \u001b[0m\u001b[32;49m24.3.1\u001b[0m\n",
      "\u001b[1m[\u001b[0m\u001b[34;49mnotice\u001b[0m\u001b[1;39;49m]\u001b[0m\u001b[39;49m To update, run: \u001b[0m\u001b[32;49mpip install --upgrade pip\u001b[0m\n",
      "Requirement already satisfied: folium in ./.venv/lib64/python3.12/site-packages (0.18.0)\n",
      "Requirement already satisfied: branca>=0.6.0 in ./.venv/lib64/python3.12/site-packages (from folium) (0.8.0)\n",
      "Requirement already satisfied: jinja2>=2.9 in ./.venv/lib64/python3.12/site-packages (from folium) (3.1.4)\n",
      "Requirement already satisfied: numpy in ./.venv/lib64/python3.12/site-packages (from folium) (2.1.2)\n",
      "Requirement already satisfied: requests in ./.venv/lib64/python3.12/site-packages (from folium) (2.32.3)\n",
      "Requirement already satisfied: xyzservices in ./.venv/lib64/python3.12/site-packages (from folium) (2024.9.0)\n",
      "Requirement already satisfied: MarkupSafe>=2.0 in ./.venv/lib64/python3.12/site-packages (from jinja2>=2.9->folium) (3.0.2)\n",
      "Requirement already satisfied: charset-normalizer<4,>=2 in ./.venv/lib64/python3.12/site-packages (from requests->folium) (3.4.0)\n",
      "Requirement already satisfied: idna<4,>=2.5 in ./.venv/lib64/python3.12/site-packages (from requests->folium) (3.10)\n",
      "Requirement already satisfied: urllib3<3,>=1.21.1 in ./.venv/lib64/python3.12/site-packages (from requests->folium) (2.2.3)\n",
      "Requirement already satisfied: certifi>=2017.4.17 in ./.venv/lib64/python3.12/site-packages (from requests->folium) (2024.8.30)\n",
      "\n",
      "\u001b[1m[\u001b[0m\u001b[34;49mnotice\u001b[0m\u001b[1;39;49m]\u001b[0m\u001b[39;49m A new release of pip is available: \u001b[0m\u001b[31;49m23.3.2\u001b[0m\u001b[39;49m -> \u001b[0m\u001b[32;49m24.3.1\u001b[0m\n",
      "\u001b[1m[\u001b[0m\u001b[34;49mnotice\u001b[0m\u001b[1;39;49m]\u001b[0m\u001b[39;49m To update, run: \u001b[0m\u001b[32;49mpip install --upgrade pip\u001b[0m\n",
      "Requirement already satisfied: gmplot in ./.venv/lib64/python3.12/site-packages (1.4.1)\n",
      "Collecting openpyxl\n",
      "  Downloading openpyxl-3.1.5-py2.py3-none-any.whl.metadata (2.5 kB)\n",
      "Requirement already satisfied: requests in ./.venv/lib64/python3.12/site-packages (from gmplot) (2.32.3)\n",
      "Collecting et-xmlfile (from openpyxl)\n",
      "  Downloading et_xmlfile-2.0.0-py3-none-any.whl.metadata (2.7 kB)\n",
      "Requirement already satisfied: charset-normalizer<4,>=2 in ./.venv/lib64/python3.12/site-packages (from requests->gmplot) (3.4.0)\n",
      "Requirement already satisfied: idna<4,>=2.5 in ./.venv/lib64/python3.12/site-packages (from requests->gmplot) (3.10)\n",
      "Requirement already satisfied: urllib3<3,>=1.21.1 in ./.venv/lib64/python3.12/site-packages (from requests->gmplot) (2.2.3)\n",
      "Requirement already satisfied: certifi>=2017.4.17 in ./.venv/lib64/python3.12/site-packages (from requests->gmplot) (2024.8.30)\n",
      "Downloading openpyxl-3.1.5-py2.py3-none-any.whl (250 kB)\n",
      "\u001b[2K   \u001b[38;2;114;156;31m━━━━━━━━━━━━━━━━━━━━━━━━━━━━━━━━━━━━━━━\u001b[0m \u001b[32m250.9/250.9 kB\u001b[0m \u001b[31m969.5 kB/s\u001b[0m eta \u001b[36m0:00:00\u001b[0m36m0:00:01\u001b[0m[36m0:00:01\u001b[0m:01\u001b[0m\n",
      "\u001b[?25hDownloading et_xmlfile-2.0.0-py3-none-any.whl (18 kB)\n",
      "Installing collected packages: et-xmlfile, openpyxl\n",
      "Successfully installed et-xmlfile-2.0.0 openpyxl-3.1.5\n",
      "\n",
      "\u001b[1m[\u001b[0m\u001b[34;49mnotice\u001b[0m\u001b[1;39;49m]\u001b[0m\u001b[39;49m A new release of pip is available: \u001b[0m\u001b[31;49m23.3.2\u001b[0m\u001b[39;49m -> \u001b[0m\u001b[32;49m24.3.1\u001b[0m\n",
      "\u001b[1m[\u001b[0m\u001b[34;49mnotice\u001b[0m\u001b[1;39;49m]\u001b[0m\u001b[39;49m To update, run: \u001b[0m\u001b[32;49mpip install --upgrade pip\u001b[0m\n"
     ]
    }
   ],
   "source": [
    "!pip install pandas shapely\n",
    "!pip install folium\n",
    "!pip install gmplot openpyxl"
   ]
  },
  {
   "cell_type": "code",
   "execution_count": null,
   "id": "9e1ad74f-8f64-427c-973c-7790fda5f018",
   "metadata": {},
   "outputs": [],
   "source": [
    "import pandas as pd\n",
    "import folium"
   ]
  },
  {
   "cell_type": "code",
   "execution_count": 166,
   "id": "a75eb87a-4d6a-47ed-b5f7-98bb35ec9cf2",
   "metadata": {},
   "outputs": [],
   "source": [
    "from shapely.geometry import Polygon\n",
    "import random\n",
    "import gmplot"
   ]
  },
  {
   "cell_type": "code",
   "execution_count": null,
   "id": "795fb35c",
   "metadata": {},
   "outputs": [],
   "source": [
    "map_colors = ['red', 'blue', 'green', 'purple']\n",
    "def add_polygon_to_map(ind, m, gmap):\n",
    "    df = pd.read_excel(f\"reportes/report{ind}.xlsx\")\n",
    "    coordinates = df[['Latitude', 'Longitude']].values\n",
    "    polygon = Polygon(coordinates)\n",
    "    area_hectares = polygon.area*1000000\n",
    "    color = map_colors[random.randint(0, 3)]\n",
    "\n",
    "    folium.Polygon(locations=coordinates, color=\"blue\", fill=True, fill_opacity=0.5, popup=f\"{area_hectares:.10f} ha\").add_to(m)\n",
    "    \n",
    "    gmap.polygon(df['Latitude'], df['Longitude'], \"cornflowerblue\", edge_width=2, edge_alpha=0.5)\n",
    "    centroid = polygon.centroid\n",
    "    gmap.marker(centroid.y, centroid.x, title=f\"{area_hectares:.10f} ha\")\n",
    "    \n",
    "    return m, gmap\n",
    "\n",
    "    "
   ]
  },
  {
   "cell_type": "code",
   "execution_count": 183,
   "id": "c37b1e4f",
   "metadata": {},
   "outputs": [],
   "source": [
    "df1 = pd.read_csv(\"geo.csv\")\n",
    "coordinates = df1[['lat', 'lon']].values\n",
    "polygon = Polygon(coordinates)\n"
   ]
  },
  {
   "cell_type": "code",
   "execution_count": 184,
   "id": "0f71cd41-35a1-44d1-9440-bd0d3831480a",
   "metadata": {},
   "outputs": [],
   "source": [
    "m = folium.Map(location=[df1['lat'].mean(), df1['lon'].mean()], zoom_start=15)\n",
    "area_hectares = polygon.area*1000000\n",
    "folium.Polygon(locations=coordinates, color='blue', fill=True, fill_opacity=0.5, popup=f\"{area_hectares:.10f} ha\").add_to(m)\n",
    "gmap = gmplot.GoogleMapPlotter(df1['lat'].mean(), df1['lon'].mean(), 16, map_type='satellite')\n",
    "gmap.polygon(df1['lat'], df1['lon'], 'cornflowerblue', edge_width=2, edge_alpha=0.5, popup=f\"{area_hectares:.10f} ha\")\n",
    "for i in range(2, 18):\n",
    "    m, gmap = add_polygon_to_map(i, m, gmap)\n",
    "m.save('mapa_areas.html')\n",
    "gmap.draw('mapa_areas_satelite.html')"
   ]
  },
  {
   "cell_type": "code",
   "execution_count": null,
   "id": "2e7b2f30",
   "metadata": {},
   "outputs": [],
   "source": []
  }
 ],
 "metadata": {
  "kernelspec": {
   "display_name": ".venv",
   "language": "python",
   "name": "python3"
  },
  "language_info": {
   "codemirror_mode": {
    "name": "ipython",
    "version": 3
   },
   "file_extension": ".py",
   "mimetype": "text/x-python",
   "name": "python",
   "nbconvert_exporter": "python",
   "pygments_lexer": "ipython3",
   "version": "3.12.7"
  }
 },
 "nbformat": 4,
 "nbformat_minor": 5
}
